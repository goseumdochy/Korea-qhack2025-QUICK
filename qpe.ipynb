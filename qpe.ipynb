{
 "cells": [
  {
   "cell_type": "code",
   "execution_count": 1,
   "id": "f91a7444-18af-455b-b9e1-e5fa62d7506f",
   "metadata": {},
   "outputs": [
    {
     "name": "stdout",
     "output_type": "stream",
     "text": [
      "2-qubit total qubits: 5\n",
      "4-qubit total qubits: 7\n"
     ]
    },
    {
     "name": "stderr",
     "output_type": "stream",
     "text": [
      "C:\\Users\\82108\\AppData\\Local\\Temp\\ipykernel_31180\\2180072433.py:41: DeprecationWarning: The class ``qiskit.circuit.library.basis_change.qft.QFT`` is deprecated as of Qiskit 2.1. It will be removed in Qiskit 3.0. ('Use qiskit.circuit.library.QFTGate or qiskit.synthesis.qft.synth_qft_full instead, for access to all previous arguments.',)\n",
      "  qc.compose(QFT(num_ancilla, do_swaps=True).inverse(),\n"
     ]
    }
   ],
   "source": [
    "import numpy as np\n",
    "from qiskit import QuantumCircuit\n",
    "from qiskit.circuit.library import QFT, UnitaryGate\n",
    "\n",
    "def create_qpe_circuit(num_ancilla: int,\n",
    "                       U_gate: UnitaryGate,\n",
    "                       state_prep: QuantumCircuit) -> QuantumCircuit:\n",
    "\n",
    "    n_target = state_prep.num_qubits\n",
    "    U_mat    = U_gate.to_matrix()\n",
    "\n",
    "    qc = QuantumCircuit(num_ancilla + n_target, num_ancilla)\n",
    "\n",
    "    qc.h(range(num_ancilla))\n",
    "    qc.compose(state_prep,\n",
    "               qubits=list(range(num_ancilla,\n",
    "                                 num_ancilla + n_target)),\n",
    "               inplace=True)\n",
    "\n",
    "    for j in range(num_ancilla):\n",
    "        mat_pow = np.linalg.matrix_power(U_mat, 2**j)\n",
    "        cU = UnitaryGate(mat_pow).control()\n",
    "        qc.append(cU,\n",
    "                  [j] + list(range(num_ancilla,\n",
    "                                   num_ancilla + n_target)))\n",
    "\n",
    "    qc.compose(QFT(num_ancilla, do_swaps=True).inverse(),\n",
    "               range(num_ancilla), inplace=True)\n",
    "\n",
    "    qc.measure(range(num_ancilla), range(num_ancilla))\n",
    "    return qc\n",
    "\n",
    "import numpy as np\n",
    "from qiskit import transpile\n",
    "from qiskit_aer import Aer\n",
    "from qiskit.circuit.library import UnitaryGate\n",
    "\n",
    "state2 = QuantumCircuit(2)\n",
    "state2.h([0,1])                  \n",
    "U2 = UnitaryGate(np.eye(4), label=\"I2\")\n",
    "qc2 = create_qpe_circuit(3, U2, state2)\n",
    "print(\"2-qubit total qubits:\", qc2.num_qubits)  \n",
    "\n",
    "state4 = QuantumCircuit(4)\n",
    "state4.h(range(4))                  \n",
    "U4 = UnitaryGate(np.eye(16), label=\"I4\")\n",
    "qc4 = create_qpe_circuit(3, U4, state4)\n",
    "print(\"4-qubit total qubits:\", qc4.num_qubits)\n"
   ]
  },
  {
   "cell_type": "code",
   "execution_count": null,
   "id": "14ff629d-77ab-4e78-acbe-9a06658ac988",
   "metadata": {},
   "outputs": [],
   "source": []
  }
 ],
 "metadata": {
  "kernelspec": {
   "display_name": "Python 3 (ipykernel)",
   "language": "python",
   "name": "python3"
  },
  "language_info": {
   "codemirror_mode": {
    "name": "ipython",
    "version": 3
   },
   "file_extension": ".py",
   "mimetype": "text/x-python",
   "name": "python",
   "nbconvert_exporter": "python",
   "pygments_lexer": "ipython3",
   "version": "3.12.11"
  }
 },
 "nbformat": 4,
 "nbformat_minor": 5
}
